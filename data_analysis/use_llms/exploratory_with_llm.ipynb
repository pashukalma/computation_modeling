{
  "nbformat": 4,
  "nbformat_minor": 0,
  "metadata": {
    "colab": {
      "provenance": []
    },
    "kernelspec": {
      "name": "python3",
      "display_name": "Python 3"
    },
    "language_info": {
      "name": "python"
    }
  },
  "cells": [
    {
      "cell_type": "markdown",
      "source": [
        "### Analysis of data with LLM with OpenAI"
      ],
      "metadata": {
        "id": "mb_6ewBMUTHD"
      }
    },
    {
      "cell_type": "code",
      "source": [
        "!pip install openai > /dev/null\n",
        "!pip install pandas scikit-learn > /dev/null"
      ],
      "metadata": {
        "id": "3OQPJfdn9idO"
      },
      "execution_count": 1,
      "outputs": []
    }, 
    {
      "cell_type": "code",
      "source": [
        "from google.colab import files\n",
        "files.upload()"
      ],
      "metadata": {
        "id": "WzAVFNBNYTmC"
      },
      "execution_count": null,
      "outputs": []
    },
    {
      "cell_type": "code",
      "source": [
        "import os\n",
        "import argparse\n",
        "import pandas as pd"
      ],
      "metadata": {
        "id": "GMBBORZN9ijS"
      },
      "execution_count": 9,
      "outputs": []
    },
    {
      "cell_type": "code",
      "source": [
        "os.environ['OPENAI_API_KEY'] = openai_api_key"
      ],
      "metadata": {
        "id": "JkQpz2aI99VE"
      },
      "execution_count": 4,
      "outputs": []
    },
    {
      "cell_type": "code",
      "source": [
        "''' https://platform.openai.com/docs/models for a list of models '''\n",
        "from openai import OpenAI\n",
        "import os\n",
        "\n",
        "client = OpenAI(api_key=openai_api_key)\n",
        "\n",
        "def set_environment():\n",
        "  variable_dict = globals().items()\n",
        "  for key, value in variable_dict:\n",
        "    if 'API' in key or 'ID' in key:\n",
        "      os.environ[key] = value\n",
        "set_environment()"
      ],
      "metadata": {
        "id": "jnK53z4v9igY"
      },
      "execution_count": 5,
      "outputs": []
    },
    {
      "cell_type": "code",
      "source": [
        "def create_prompt(text):\n",
        "  instructions = 'Is the review sentiment positive or negative?'\n",
        "  formatting = '\"Positive\" or \"Negative\"'\n",
        "  return f'Text:{text}\\n{instructions}\\nAnswer ({formatting}):'\n",
        "\n",
        "def invoke_llm(prompt):\n",
        "  messages = [\n",
        "        {'content':prompt, 'role':'user'} ]\n",
        "  response = client.chat.completions.create(\n",
        "        messages=messages, model='gpt-4o')\n",
        "  return response.choices[0].message.content\n",
        "\n",
        "def classify(text):\n",
        "  prompt = create_prompt(text)\n",
        "  return invoke_llm(prompt)"
      ],
      "metadata": {
        "id": "GfCklcAT-EC0"
      },
      "execution_count": 11,
      "outputs": []
    },
    {
      "cell_type": "code",
      "source": [
        "df = pd.read_csv('engagements.csv')"
      ],
      "metadata": {
        "id": "GIADxvtf-EP8"
      },
      "execution_count": 12,
      "outputs": []
    },
    {
      "cell_type": "code",
      "source": [
        "df.head()"
      ],
      "metadata": {
        "id": "DHURPAIg-ETz",
        "colab": {
          "base_uri": "https://localhost:8080/",
          "height": 293
        },
        "outputId": "84393b4e-0167-4b70-a2bc-80fe222d4872"
      },
      "execution_count": 13,
      "outputs": [
        {
          "output_type": "execute_result",
          "data": {
            "text/plain": [
              "                          timestamp           media_id  \\\n",
              "0  2025-03-01 00:13:57.153000+00:00   1090986906404998   \n",
              "1  2025-03-01 00:23:06.879000+00:00  17950254656929862   \n",
              "2  2025-03-01 00:04:05.094000+00:00   1090109319826090   \n",
              "3  2025-03-01 00:41:59.467000+00:00   1098364052333950   \n",
              "4  2025-03-01 02:21:29.715000+00:00   1083943630442659   \n",
              "\n",
              "                                       media_caption  \\\n",
              "0  Soft skin, soft life 🩷🌸🫧 get your hands on thi...   \n",
              "1  Why use one scrub when you can use them all at...   \n",
              "2  Morning routine with Tree Hut 🍊🫧 Now available...   \n",
              "3  Why use one scrub when you can use them all at...   \n",
              "4  Vanilla Serum-Infused Hand Wash: A sweet escap...   \n",
              "\n",
              "                                        comment_text  \n",
              "0                                 I bet this is good  \n",
              "1                         i know this smells so good  \n",
              "2                                            Love it  \n",
              "3  Please carry these in Canada! I miss them so m...  \n",
              "4                                     I love it ..✌️  "
            ],
            "text/html": [
              "\n",
              "  <div id=\"df-a1d5a2d3-7a22-40a4-bf70-7897377de9b4\" class=\"colab-df-container\">\n",
              "    <div>\n",
              "<style scoped>\n",
              "    .dataframe tbody tr th:only-of-type {\n",
              "        vertical-align: middle;\n",
              "    }\n",
              "\n",
              "    .dataframe tbody tr th {\n",
              "        vertical-align: top;\n",
              "    }\n",
              "\n",
              "    .dataframe thead th {\n",
              "        text-align: right;\n",
              "    }\n",
              "</style>\n",
              "<table border=\"1\" class=\"dataframe\">\n",
              "  <thead>\n",
              "    <tr style=\"text-align: right;\">\n",
              "      <th></th>\n",
              "      <th>timestamp</th>\n",
              "      <th>media_id</th>\n",
              "      <th>media_caption</th>\n",
              "      <th>comment_text</th>\n",
              "    </tr>\n",
              "  </thead>\n",
              "  <tbody>\n",
              "    <tr>\n",
              "      <th>0</th>\n",
              "      <td>2025-03-01 00:13:57.153000+00:00</td>\n",
              "      <td>1090986906404998</td>\n",
              "      <td>Soft skin, soft life 🩷🌸🫧 get your hands on thi...</td>\n",
              "      <td>I bet this is good</td>\n",
              "    </tr>\n",
              "    <tr>\n",
              "      <th>1</th>\n",
              "      <td>2025-03-01 00:23:06.879000+00:00</td>\n",
              "      <td>17950254656929862</td>\n",
              "      <td>Why use one scrub when you can use them all at...</td>\n",
              "      <td>i know this smells so good</td>\n",
              "    </tr>\n",
              "    <tr>\n",
              "      <th>2</th>\n",
              "      <td>2025-03-01 00:04:05.094000+00:00</td>\n",
              "      <td>1090109319826090</td>\n",
              "      <td>Morning routine with Tree Hut 🍊🫧 Now available...</td>\n",
              "      <td>Love it</td>\n",
              "    </tr>\n",
              "    <tr>\n",
              "      <th>3</th>\n",
              "      <td>2025-03-01 00:41:59.467000+00:00</td>\n",
              "      <td>1098364052333950</td>\n",
              "      <td>Why use one scrub when you can use them all at...</td>\n",
              "      <td>Please carry these in Canada! I miss them so m...</td>\n",
              "    </tr>\n",
              "    <tr>\n",
              "      <th>4</th>\n",
              "      <td>2025-03-01 02:21:29.715000+00:00</td>\n",
              "      <td>1083943630442659</td>\n",
              "      <td>Vanilla Serum-Infused Hand Wash: A sweet escap...</td>\n",
              "      <td>I love it ..✌️</td>\n",
              "    </tr>\n",
              "  </tbody>\n",
              "</table>\n",
              "</div>\n",
              "    <div class=\"colab-df-buttons\">\n",
              "\n",
              "  <div class=\"colab-df-container\">\n",
              "    <button class=\"colab-df-convert\" onclick=\"convertToInteractive('df-a1d5a2d3-7a22-40a4-bf70-7897377de9b4')\"\n",
              "            title=\"Convert this dataframe to an interactive table.\"\n",
              "            style=\"display:none;\">\n",
              "\n",
              "  <svg xmlns=\"http://www.w3.org/2000/svg\" height=\"24px\" viewBox=\"0 -960 960 960\">\n",
              "    <path d=\"M120-120v-720h720v720H120Zm60-500h600v-160H180v160Zm220 220h160v-160H400v160Zm0 220h160v-160H400v160ZM180-400h160v-160H180v160Zm440 0h160v-160H620v160ZM180-180h160v-160H180v160Zm440 0h160v-160H620v160Z\"/>\n",
              "  </svg>\n",
              "    </button>\n",
              "\n",
              "  <style>\n",
              "    .colab-df-container {\n",
              "      display:flex;\n",
              "      gap: 12px;\n",
              "    }\n",
              "\n",
              "    .colab-df-convert {\n",
              "      background-color: #E8F0FE;\n",
              "      border: none;\n",
              "      border-radius: 50%;\n",
              "      cursor: pointer;\n",
              "      display: none;\n",
              "      fill: #1967D2;\n",
              "      height: 32px;\n",
              "      padding: 0 0 0 0;\n",
              "      width: 32px;\n",
              "    }\n",
              "\n",
              "    .colab-df-convert:hover {\n",
              "      background-color: #E2EBFA;\n",
              "      box-shadow: 0px 1px 2px rgba(60, 64, 67, 0.3), 0px 1px 3px 1px rgba(60, 64, 67, 0.15);\n",
              "      fill: #174EA6;\n",
              "    }\n",
              "\n",
              "    .colab-df-buttons div {\n",
              "      margin-bottom: 4px;\n",
              "    }\n",
              "\n",
              "    [theme=dark] .colab-df-convert {\n",
              "      background-color: #3B4455;\n",
              "      fill: #D2E3FC;\n",
              "    }\n",
              "\n",
              "    [theme=dark] .colab-df-convert:hover {\n",
              "      background-color: #434B5C;\n",
              "      box-shadow: 0px 1px 3px 1px rgba(0, 0, 0, 0.15);\n",
              "      filter: drop-shadow(0px 1px 2px rgba(0, 0, 0, 0.3));\n",
              "      fill: #FFFFFF;\n",
              "    }\n",
              "  </style>\n",
              "\n",
              "    <script>\n",
              "      const buttonEl =\n",
              "        document.querySelector('#df-a1d5a2d3-7a22-40a4-bf70-7897377de9b4 button.colab-df-convert');\n",
              "      buttonEl.style.display =\n",
              "        google.colab.kernel.accessAllowed ? 'block' : 'none';\n",
              "\n",
              "      async function convertToInteractive(key) {\n",
              "        const element = document.querySelector('#df-a1d5a2d3-7a22-40a4-bf70-7897377de9b4');\n",
              "        const dataTable =\n",
              "          await google.colab.kernel.invokeFunction('convertToInteractive',\n",
              "                                                    [key], {});\n",
              "        if (!dataTable) return;\n",
              "\n",
              "        const docLinkHtml = 'Like what you see? Visit the ' +\n",
              "          '<a target=\"_blank\" href=https://colab.research.google.com/notebooks/data_table.ipynb>data table notebook</a>'\n",
              "          + ' to learn more about interactive tables.';\n",
              "        element.innerHTML = '';\n",
              "        dataTable['output_type'] = 'display_data';\n",
              "        await google.colab.output.renderOutput(dataTable, element);\n",
              "        const docLink = document.createElement('div');\n",
              "        docLink.innerHTML = docLinkHtml;\n",
              "        element.appendChild(docLink);\n",
              "      }\n",
              "    </script>\n",
              "  </div>\n",
              "\n",
              "\n",
              "    <div id=\"df-8ddf0b83-2881-4de5-bda9-56995f7c7037\">\n",
              "      <button class=\"colab-df-quickchart\" onclick=\"quickchart('df-8ddf0b83-2881-4de5-bda9-56995f7c7037')\"\n",
              "                title=\"Suggest charts\"\n",
              "                style=\"display:none;\">\n",
              "\n",
              "<svg xmlns=\"http://www.w3.org/2000/svg\" height=\"24px\"viewBox=\"0 0 24 24\"\n",
              "     width=\"24px\">\n",
              "    <g>\n",
              "        <path d=\"M19 3H5c-1.1 0-2 .9-2 2v14c0 1.1.9 2 2 2h14c1.1 0 2-.9 2-2V5c0-1.1-.9-2-2-2zM9 17H7v-7h2v7zm4 0h-2V7h2v10zm4 0h-2v-4h2v4z\"/>\n",
              "    </g>\n",
              "</svg>\n",
              "      </button>\n",
              "\n",
              "<style>\n",
              "  .colab-df-quickchart {\n",
              "      --bg-color: #E8F0FE;\n",
              "      --fill-color: #1967D2;\n",
              "      --hover-bg-color: #E2EBFA;\n",
              "      --hover-fill-color: #174EA6;\n",
              "      --disabled-fill-color: #AAA;\n",
              "      --disabled-bg-color: #DDD;\n",
              "  }\n",
              "\n",
              "  [theme=dark] .colab-df-quickchart {\n",
              "      --bg-color: #3B4455;\n",
              "      --fill-color: #D2E3FC;\n",
              "      --hover-bg-color: #434B5C;\n",
              "      --hover-fill-color: #FFFFFF;\n",
              "      --disabled-bg-color: #3B4455;\n",
              "      --disabled-fill-color: #666;\n",
              "  }\n",
              "\n",
              "  .colab-df-quickchart {\n",
              "    background-color: var(--bg-color);\n",
              "    border: none;\n",
              "    border-radius: 50%;\n",
              "    cursor: pointer;\n",
              "    display: none;\n",
              "    fill: var(--fill-color);\n",
              "    height: 32px;\n",
              "    padding: 0;\n",
              "    width: 32px;\n",
              "  }\n",
              "\n",
              "  .colab-df-quickchart:hover {\n",
              "    background-color: var(--hover-bg-color);\n",
              "    box-shadow: 0 1px 2px rgba(60, 64, 67, 0.3), 0 1px 3px 1px rgba(60, 64, 67, 0.15);\n",
              "    fill: var(--button-hover-fill-color);\n",
              "  }\n",
              "\n",
              "  .colab-df-quickchart-complete:disabled,\n",
              "  .colab-df-quickchart-complete:disabled:hover {\n",
              "    background-color: var(--disabled-bg-color);\n",
              "    fill: var(--disabled-fill-color);\n",
              "    box-shadow: none;\n",
              "  }\n",
              "\n",
              "  .colab-df-spinner {\n",
              "    border: 2px solid var(--fill-color);\n",
              "    border-color: transparent;\n",
              "    border-bottom-color: var(--fill-color);\n",
              "    animation:\n",
              "      spin 1s steps(1) infinite;\n",
              "  }\n",
              "\n",
              "  @keyframes spin {\n",
              "    0% {\n",
              "      border-color: transparent;\n",
              "      border-bottom-color: var(--fill-color);\n",
              "      border-left-color: var(--fill-color);\n",
              "    }\n",
              "    20% {\n",
              "      border-color: transparent;\n",
              "      border-left-color: var(--fill-color);\n",
              "      border-top-color: var(--fill-color);\n",
              "    }\n",
              "    30% {\n",
              "      border-color: transparent;\n",
              "      border-left-color: var(--fill-color);\n",
              "      border-top-color: var(--fill-color);\n",
              "      border-right-color: var(--fill-color);\n",
              "    }\n",
              "    40% {\n",
              "      border-color: transparent;\n",
              "      border-right-color: var(--fill-color);\n",
              "      border-top-color: var(--fill-color);\n",
              "    }\n",
              "    60% {\n",
              "      border-color: transparent;\n",
              "      border-right-color: var(--fill-color);\n",
              "    }\n",
              "    80% {\n",
              "      border-color: transparent;\n",
              "      border-right-color: var(--fill-color);\n",
              "      border-bottom-color: var(--fill-color);\n",
              "    }\n",
              "    90% {\n",
              "      border-color: transparent;\n",
              "      border-bottom-color: var(--fill-color);\n",
              "    }\n",
              "  }\n",
              "</style>\n",
              "\n",
              "      <script>\n",
              "        async function quickchart(key) {\n",
              "          const quickchartButtonEl =\n",
              "            document.querySelector('#' + key + ' button');\n",
              "          quickchartButtonEl.disabled = true;  // To prevent multiple clicks.\n",
              "          quickchartButtonEl.classList.add('colab-df-spinner');\n",
              "          try {\n",
              "            const charts = await google.colab.kernel.invokeFunction(\n",
              "                'suggestCharts', [key], {});\n",
              "          } catch (error) {\n",
              "            console.error('Error during call to suggestCharts:', error);\n",
              "          }\n",
              "          quickchartButtonEl.classList.remove('colab-df-spinner');\n",
              "          quickchartButtonEl.classList.add('colab-df-quickchart-complete');\n",
              "        }\n",
              "        (() => {\n",
              "          let quickchartButtonEl =\n",
              "            document.querySelector('#df-8ddf0b83-2881-4de5-bda9-56995f7c7037 button');\n",
              "          quickchartButtonEl.style.display =\n",
              "            google.colab.kernel.accessAllowed ? 'block' : 'none';\n",
              "        })();\n",
              "      </script>\n",
              "    </div>\n",
              "\n",
              "    </div>\n",
              "  </div>\n"
            ],
            "application/vnd.google.colaboratory.intrinsic+json": {
              "type": "dataframe",
              "variable_name": "df",
              "summary": "{\n  \"name\": \"df\",\n  \"rows\": 17841,\n  \"fields\": [\n    {\n      \"column\": \"timestamp\",\n      \"properties\": {\n        \"dtype\": \"string\",\n        \"num_unique_values\": 17840,\n        \"samples\": [\n          \"2025-03-21 16:26:01.959000+00:00\",\n          \"2025-03-11 12:50:49.213000+00:00\",\n          \"2025-03-04 17:06:31.135000+00:00\"\n        ],\n        \"semantic_type\": \"\",\n        \"description\": \"\"\n      }\n    },\n    {\n      \"column\": \"media_id\",\n      \"properties\": {\n        \"dtype\": \"number\",\n        \"std\": 6297451613373289,\n        \"min\": 895505052619852,\n        \"max\": 18499994980028530,\n        \"num_unique_values\": 355,\n        \"samples\": [\n          1103278341842521,\n          18056284969869213,\n          1124077123095976\n        ],\n        \"semantic_type\": \"\",\n        \"description\": \"\"\n      }\n    },\n    {\n      \"column\": \"media_caption\",\n      \"properties\": {\n        \"dtype\": \"category\",\n        \"num_unique_values\": 211,\n        \"samples\": [\n          \"*slams laptop shut* \\u270c\\ufe0f\\ud83d\\udebf\\ud83c\\udf34 click the link to get my fave sugar scrub\",\n          \"Pear & Chia Seed Sugar Scrub, infused with nutrient rich prickly pear and chia seeds... perfect for spring \\ud83c\\udf37 and summer \\ud83c\\udf1e! It has the right color, the right refreshing scent, and the right amount of sugar for soft, smooth skin! \\ud83d\\udc4c\\n.\\n.\\n.\\n#treehut #pamper #sugarscrub #bodyscrub #sheabutter #treatyoself #smellssogood #smoothskin\",\n          \"Who\\u2019s PUMPED for our latest launch? \\ud83c\\udf38\\ud83d\\udca6\\n\\nFrom Serum-Infused Hand Washes to Overnight Lip Masks\\u2014you name it, we\\u2019ve got it (and so much more)\\u203c\\ufe0f Get ready to level up your self-care routine!\\nAvailable In-Store and Online Today\\ud83d\\udecd\\ufe0f\\n#treehut #treehutcollection #newlaunch\"\n        ],\n        \"semantic_type\": \"\",\n        \"description\": \"\"\n      }\n    },\n    {\n      \"column\": \"comment_text\",\n      \"properties\": {\n        \"dtype\": \"string\",\n        \"num_unique_values\": 12057,\n        \"samples\": [\n          \"Spain please \\ud83d\\ude4c\",\n          \"'@ags269 , @01aussie01 , @14avers14\",\n          \"This one smells so good.\\u2764\\ufe0f\"\n        ],\n        \"semantic_type\": \"\",\n        \"description\": \"\"\n      }\n    }\n  ]\n}"
            }
          },
          "metadata": {},
          "execution_count": 13
        }
      ]
    },
    {
      "cell_type": "code",
      "source": [
        "df['class_media_caption'] = df['media_caption'].head(100).apply(classify)"
      ],
      "metadata": {
        "id": "Z-4Yd6LT-EXv"
      },
      "execution_count": 14,
      "outputs": []
    },
    {
      "cell_type": "code",
      "source": [
        "df['class_text'] = df['comment_text'].head(100).apply(classify)"
      ],
      "metadata": {
        "id": "S330HkSD_-r8"
      },
      "execution_count": 15,
      "outputs": []
    },
    {
      "cell_type": "code",
      "source": [
        "statistics = df['class_media_caption'].value_counts()\n",
        "print(statistics)\n",
        "df.to_csv('class_media_caption.csv')"
      ],
      "metadata": {
        "id": "v_9iV5qJ_-xv",
        "colab": {
          "base_uri": "https://localhost:8080/"
        },
        "outputId": "c9973462-5a7d-4340-b549-ea79bf6143ae"
      },
      "execution_count": 16,
      "outputs": [
        {
          "output_type": "stream",
          "name": "stdout",
          "text": [
            "class_media_caption\n",
            "Positive                                                                                                                                                                                                                                                                                                                 99\n",
            "The text provided does not explicitly express a positive or negative sentiment about the product. It is simply an invitation to shop for the Tangerine Pre-Shave Foaming Polish without any evaluative language. Therefore, no definitive sentiment (positive or negative) can be inferred from the given text alone.     1\n",
            "Name: count, dtype: int64\n"
          ]
        }
      ]
    },
    {
      "cell_type": "code",
      "source": [
        "statistics = df['class_text'].value_counts()\n",
        "print(statistics)\n",
        "df.to_csv('class_text.csv')"
      ],
      "metadata": {
        "id": "NzsBZUlEAdPv",
        "colab": {
          "base_uri": "https://localhost:8080/"
        },
        "outputId": "2a83d245-3d82-4ec4-b360-9d9f4d0c1780"
      },
      "execution_count": 17,
      "outputs": [
        {
          "output_type": "stream",
          "name": "stdout",
          "text": [
            "class_text\n",
            "Positive                                                                                                                                                                                                                                                                                                                                                                                                                                                                                                                                            47\n",
            "Negative                                                                                                                                                                                                                                                                                                                                                                                                                                                                                                                                            12\n",
            "The review sentiment is negative.                                                                                                                                                                                                                                                                                                                                                                                                                                                                                                                    2\n",
            "The sentiment of the text \"Anndy Marin\" cannot be determined as there is no explicit expression of opinion or sentiment provided. Additional context is needed to ascertain whether the sentiment is positive or negative.                                                                                                                                                                                                                                                                                                                           1\n",
            "The sentiment of the text \"Emerald\" is not explicitly clear based on the word alone. Additional context is needed to determine whether the sentiment is positive or negative. If the text were part of a positive statement about emeralds being beautiful or valuable, the sentiment could be positive. Conversely, if the text were part of a negative statement about emeralds being flawed or undesirable in some way, the sentiment could be negative. Without additional context, it's not possible to accurately determine the sentiment.     1\n",
            "To determine the sentiment of a review, I would need the actual content of the review. The provided text only includes a mention of a user handle and does not indicate whether the associated content has a positive or negative sentiment. Please provide more information or the actual text of the review for accurate sentiment analysis.                                                                                                                                                                                                       1\n",
            "The provided text does not contain enough information to determine the sentiment of a review. It appears to be a mention of a username with an emoji, which lacks any explicit positive or negative language. Therefore, no sentiment can be assigned based on this text alone.                                                                                                                                                                                                                                                                      1\n",
            "I'm sorry, but I can't determine the sentiment of the review without more context or content from the text. If you can provide the full review or additional details, I can help assess whether the sentiment is positive or negative.                                                                                                                                                                                                                                                                                                               1\n",
            "The given text does not provide enough information to determine the sentiment of a review. The text appears to be a mention or tag of a user, possibly an Instagram handle, followed by an emoji of an orange. Without additional context or descriptive words indicating the nature of the review, it is not possible to classify the sentiment as \"Positive\" or \"Negative.\"                                                                                                                                                                        1\n",
            "To determine the sentiment from the text provided, I would need more context or content from the review itself. The handle '@kalwone' does not provide enough information to ascertain the sentiment. If you could include more details or excerpts from the review, I could help identify whether the sentiment is positive or negative.                                                                                                                                                                                                            1\n",
            "\"Positive\"                                                                                                                                                                                                                                                                                                                                                                                                                                                                                                                                           1\n",
            "The text provided does not contain enough information to determine the sentiment of a review. It includes emojis and a username, but lacks context or opinion. Therefore, it's not possible to classify it as either \"Positive\" or \"Negative.\"                                                                                                                                                                                                                                                                                                       1\n",
            "Based on the text provided, there is insufficient information to determine whether the sentiment is positive or negative. The text lacks context or any descriptive language that would indicate a sentiment.                                                                                                                                                                                                                                                                                                                                        1\n",
            "The sentiment of the review is unclear from the provided text \"Danielle Ewart.\" More context is needed to determine if the sentiment is positive or negative.                                                                                                                                                                                                                                                                                                                                                                                        1\n",
            "There is not enough information in the text provided to determine whether the review sentiment is positive or negative.                                                                                                                                                                                                                                                                                                                                                                                                                              1\n",
            "It seems there is no actual text provided for analysis, as \"nan\" typically stands for \"not a number\" or may indicate missing data. Without substantive content to analyze, it's not possible to determine if the sentiment is positive or negative. Could you please provide a valid text or review?                                                                                                                                                                                                                                                 1\n",
            "The text does not provide sufficient information to determine the sentiment of a review. Therefore, it's not possible to accurately categorize the sentiment as \"Positive\" or \"Negative.\"                                                                                                                                                                                                                                                                                                                                                            1\n",
            "The sentiment of the provided text is unclear. It is more neutral and does not explicitly convey a positive or negative sentiment. Therefore, without additional context, it is difficult to definitively categorize it as either \"Positive\" or \"Negative.\"                                                                                                                                                                                                                                                                                          1\n",
            "The text provided does not contain enough information to determine whether the sentiment is positive or negative. It simply asks a question, \"What are these,\" without any context or sentiment-indicating words.                                                                                                                                                                                                                                                                                                                                    1\n",
            "The sentiment of the text is not clearly defined as positive or negative based on the given information. The text simply mentions \"coconut n vanilla\" without providing any context or opinion. Therefore, it's not possible to accurately determine the sentiment.                                                                                                                                                                                                                                                                                  1\n",
            "I'm sorry, but I can't determine the sentiment of the text \"Elizabeth Hofland\" as it doesn't provide enough context or information to assess whether it is positive or negative.                                                                                                                                                                                                                                                                                                                                                                     1\n",
            "The sentiment of the review cannot be determined as positive or negative based solely on the provided text \"Madeline Nelson ooooooo.\" The text lacks clear context or evaluative language to infer sentiment.                                                                                                                                                                                                                                                                                                                                        1\n",
            "The sentiment of the review cannot be determined from the given text alone. More context or specific details about the review are needed to accurately assess whether the sentiment is positive or negative.                                                                                                                                                                                                                                                                                                                                         1\n",
            "The sentiment of the review is unclear based solely on the text \"Does she like it,\" as it doesn't explicitly indicate a positive or negative sentiment. Additional context is needed to determine the sentiment.                                                                                                                                                                                                                                                                                                                                     1\n",
            "To determine the sentiment of the text, we need more information, such as the content of the review or any additional context provided. The handle \"@jackieinspires\" alone does not indicate sentiment. Please provide more details or the actual text of the review.                                                                                                                                                                                                                                                                                1\n",
            "The text provided is \"nan,\" which typically indicates missing or undefined data rather than an actual review. Therefore, it is not possible to determine a sentiment (positive or negative) from it.                                                                                                                                                                                                                                                                                                                                                 1\n",
            "The review sentiment is \"Negative.\"                                                                                                                                                                                                                                                                                                                                                                                                                                                                                                                  1\n",
            "To determine the sentiment of the review, I would need more context or details about the content of the review itself. Based solely on the text provided, no sentiment can be identified. Please provide additional information or the actual review text for a sentiment analysis.                                                                                                                                                                                                                                                                  1\n",
            "I'm sorry, but I cannot determine the sentiment of the review based solely on the text provided.                                                                                                                                                                                                                                                                                                                                                                                                                                                     1\n",
            "I'm sorry, but without additional context or content from the review itself, I cannot determine whether the sentiment is positive or negative. If you can provide more details from the review, I'd be happy to help analyze it.                                                                                                                                                                                                                                                                                                                     1\n",
            "The sentiment of the review is not explicitly clear from the given text \"Can you use this on the face,\" as it appears to be a neutral inquiry regarding the use of a product. Therefore, it could be interpreted as neither positive nor negative based solely on the information provided. If you have additional context or information, it might help in determining the sentiment more accurately.                                                                                                                                               1\n",
            "I'm sorry, but I cannot determine the review sentiment based on the text provided. Could you provide more information or context regarding Robyn Petty's experience with the product?                                                                                                                                                                                                                                                                                                                                                                1\n",
            "To determine the sentiment from the text \"'@manesbymell,\" more context is required. The text alone does not provide enough information to discern whether the sentiment is positive or negative. If there is a follow-up statement, review, or comment, please provide that for a more accurate assessment.                                                                                                                                                                                                                                          1\n",
            "The sentiment of the text provided is neutral rather than positive or negative. There is no indication of positive or negative sentiment from the question \"Can you use on Face and Neck?\"                                                                                                                                                                                                                                                                                                                                                           1\n",
            "The sentiment of the text \"PLUS TAX.  10.55\" is neutral as it doesn't express any positive or negative emotions or opinions. However, since the only options given are \"Positive\" or \"Negative\", I would say it is more aligned with \"Negative\" due to the mention of tax, which can often carry a slightly negative connotation in reviews.                                                                                                                                                                                                         1\n",
            "I'm sorry, but I would need the actual text of the review to determine its sentiment. Could you please provide the content of the review?                                                                                                                                                                                                                                                                                                                                                                                                            1\n",
            "To determine the sentiment of the review that mentions \"@thebiggee108\", additional context or content from the review itself is necessary. The username alone does not provide enough information to discern whether the sentiment is positive or negative.                                                                                                                                                                                                                                                                                          1\n",
            "I'm sorry, but I cannot determine the sentiment of the text '@playboi.eddiie' as it does not contain any descriptive words or context that would indicate a positive or negative sentiment. To assess sentiment, I would need a more detailed review or statement that expresses an opinion or feeling about a particular subject.                                                                                                                                                                                                                   1\n",
            "The text provided does not contain enough information to determine whether the sentiment is positive or negative. The text \"Ashley Double-a Anderson 👀\" seems to include a name and an emoji, but without additional context or descriptors, it's not possible to assess the sentiment accurately.                                                                                                                                                                                                                                                   1\n",
            "The sentiment of the text cannot be determined as it lacks sufficient information to classify it as \"Positive\" or \"Negative.\" Additional context about the review is needed to accurately assess the sentiment.                                                                                                                                                                                                                                                                                                                                      1\n",
            "The text provided does not contain enough information to determine whether the sentiment of a review is positive or negative. Could you provide more context or the content of the review?                                                                                                                                                                                                                                                                                                                                                           1\n",
            "The text provided does not contain any explicit statements or language that clearly indicates a positive or negative sentiment. It merely lists usernames or brand mentions, and without additional context or evaluative language, it is not possible to discern the sentiment. Therefore, more information would be needed to accurately determine if the sentiment is positive or negative.                                                                                                                                                       1\n",
            "Name: count, dtype: int64\n"
          ]
        }
      ]
    },
    {
      "cell_type": "code",
      "source": [
        "!head class_media_caption.csv"
      ],
      "metadata": {
        "id": "ITy6OEN3KlIM"
      },
      "execution_count": null,
      "outputs": []
    },
    {
      "cell_type": "code",
      "source": [
        "!head class_text.csv"
      ],
      "metadata": {
        "id": "zEcJB5GkKnxT"
      },
      "execution_count": null,
      "outputs": []
    },
    {
      "cell_type": "markdown",
      "source": [
        "### Clustering"
      ],
      "metadata": {
        "id": "ZKiKNzL3FHFa"
      }
    },
    {
      "cell_type": "code",
      "metadata": {
        "id": "34d184fa"
      },
      "source": [
        "!pip install scikit-learn numpy > /dev/null"
      ],
      "execution_count": 24,
      "outputs": []
    },
    {
      "cell_type": "code",
      "source": [
        "from sklearn.feature_extraction.text import TfidfVectorizer\n",
        "from sklearn.cluster import KMeans\n",
        "import numpy as np\n",
        "\n",
        "# Combine relevant text columns for clustering\n",
        "df_subset = df.head(100).copy()\n",
        "df_subset['combined_text'] = df_subset['media_caption'].fillna('') + ' ' + df_subset['comment_text'].fillna('')\n",
        "\n",
        "# Vectorize the text data\n",
        "vectorizer = TfidfVectorizer(stop_words='english')\n",
        "X = vectorizer.fit_transform(df_subset['combined_text'])\n",
        "\n",
        "# Perform KMeans clustering\n",
        "num_clusters = 5  # You can adjust the number of clusters\n",
        "kmeans = KMeans(n_clusters=num_clusters, random_state=42, n_init=10)\n",
        "df_subset['cluster'] = kmeans.fit_predict(X)\n",
        "\n",
        "# Display the first few rows with cluster labels\n",
        "display(df_subset[['combined_text', 'cluster']].head())"
      ],
      "metadata": {
        "id": "gx_im9HkaC6o"
      },
      "execution_count": null,
      "outputs": []
    },
    {
      "cell_type": "code",
      "source": [
        "if __name__ == '__main__':\n",
        "\n",
        "    parser = argparse.ArgumentParser()\n",
        "    parser.add_argument('path', type=str, help='Path to the input file')\n",
        "    args = parser.parse_args()\n",
        "\n",
        "    df = pd.read_csv(args.path)\n",
        "    df['class_media_caption'] = df['media_caption'].head(100).apply(classify)\n",
        "    df.to_csv('class_media_caption.csv')\n",
        "    print(df)\n",
        "    statistics = df['class_text'].value_counts()\n",
        "    print(statistics)\n",
        "    df.to_csv('class_text.csv')"
      ],
      "metadata": {
        "id": "x0YhLAWWaJwd"
      },
      "execution_count": null,
      "outputs": []
    },
    {
      "cell_type": "markdown",
      "source": [
        "### Sentiment pipeline using langchain"
      ],
      "metadata": {
        "id": "-y-vYpMyaSD5"
      }
    },
    {
      "cell_type": "code",
      "source": [
        "import argparse\n",
        "import pandas as pd"
      ],
      "metadata": {
        "id": "Z-FU4q1OzKdC"
      },
      "execution_count": null,
      "outputs": []
    },
    {
      "cell_type": "code",
      "source": [
        "!pip install langchain_openai > /dev/null\n",
        "!pip install langchain_core > /dev/null"
      ],
      "metadata": {
        "id": "OzpMTOHnbe3t"
      },
      "execution_count": 28,
      "outputs": []
    },
    {
      "cell_type": "code",
      "source": [
        "from langchain_openai import ChatOpenAI\n",
        "from langchain_core.prompts.chat import ChatPromptTemplate\n",
        "from langchain_core.output_parsers.string import StrOutputParser\n",
        "from langchain_core.runnables.passthrough import RunnablePassthrough"
      ],
      "metadata": {
        "id": "8adLoKV7am1N"
      },
      "execution_count": 29,
      "outputs": []
    },
    {
      "cell_type": "code",
      "source": [
        "''' Creates chain for text classification'''\n",
        "def create_chain():\n",
        "    prompt = ChatPromptTemplate.from_template(\n",
        "        '{text}\\n'\n",
        "        'Is the sentiment positive or negative?\\n'\n",
        "        'Answer (\"Positive\"/\"Negative\")\\n')\n",
        "    llm = ChatOpenAI(\n",
        "        model='gpt-4o', temperature=0,\n",
        "        max_tokens=1)\n",
        "    parser = StrOutputParser()\n",
        "    chain = ({'text':RunnablePassthrough()} | prompt | llm | parser)\n",
        "    return chain\n"
      ],
      "metadata": {
        "id": "nPjBVmgvblBA"
      },
      "execution_count": 30,
      "outputs": []
    },
    {
      "cell_type": "code",
      "source": [
        "df = pd.read_csv('engagements.csv')\n",
        "df,"
      ],
      "metadata": {
        "id": "fvpmulM5b_VA"
      },
      "execution_count": null,
      "outputs": []
    },
    {
      "cell_type": "code",
      "source": [
        "chain = create_chain()\n",
        "\n",
        "class_text_result = chain.batch(list(df['comment_text'[:10]]))\n",
        "df['class_text'] = class_text_result\n",
        "df.to_csv('class_text_result.csv')"
      ],
      "metadata": {
        "id": "4FH0YxrRgyAt"
      },
      "execution_count": null,
      "outputs": []
    },
    {
      "cell_type": "code",
      "source": [
        "''' process with batch_size '''\n",
        "import time\n",
        "chain = create_chain()\n",
        "batch_size = 100  # Adjust batch size as needed\n",
        "num_batches = (len(df) + batch_size - 1) // batch_size\n",
        "all_results = []\n",
        "\n",
        "for i in range(num_batches):\n",
        "    start_index = i * batch_size\n",
        "    end_index = min((i + 1) * batch_size, len(df))\n",
        "    comment_batch = list(df['comment_text'][start_index:end_index])\n",
        "    batch_results = chain.batch(comment_batch)\n",
        "    all_results.extend(batch_results)\n",
        "    time.sleep(1) # Add a delay between batches\n",
        "\n",
        "df['class_text'] = all_results"
      ],
      "metadata": {
        "id": "GnB9zkQdlCtI"
      },
      "execution_count": null,
      "outputs": []
    },
    {
      "cell_type": "code",
      "source": [
        "if __name__ == '__main__':\n",
        "\n",
        "    parser = argparse.ArgumentParser()\n",
        "    parser.add_argument('file_path', type=str, help='Path to input .csv file')\n",
        "    args = parser.parse_args()\n",
        "\n",
        "    df = pd.read_csv(args.file_path)\n",
        "    chain = create_chain()\n",
        "\n",
        "    class_text_result = chain.batch(list(df['comment_text']))\n",
        "    df['class_text'] = class_text_result\n",
        "    df.to_csv('class_text_result.csv')"
      ],
      "metadata": {
        "id": "lOUjAyFkblRX"
      },
      "execution_count": null,
      "outputs": []
    },
    {
      "cell_type": "markdown",
      "source": [
        "### Setiment pipeline with Vertex"
      ],
      "metadata": {
        "id": "B8IV0P2Nh4lv"
      }
    },
    {
      "cell_type": "code",
      "metadata": {
        "id": "7ab3497a"
      },
      "source": [
        "!pip install google-cloud-aiplatform > /dev/null"
      ],
      "execution_count": 44,
      "outputs": []
    },
    {
      "cell_type": "code",
      "metadata": {
        "id": "1bf58df9"
      },
      "source": [
        "from google.colab import auth\n",
        "auth.authenticate_user()"
      ],
      "execution_count": 45,
      "outputs": []
    },
    {
      "cell_type": "code",
      "metadata": {
        "colab": {
          "base_uri": "https://localhost:8080/"
        },
        "id": "8de3b835",
        "outputId": "50444e69-3814-4e93-eac4-735862faa4b0"
      },
      "source": [
        "import vertexai\n",
        "\n",
        "PROJECT_ID = 'llm-test-428715'  # Replace with your Google Cloud project ID\n",
        "LOCATION = 'us-central1'  # Replace with your desired Vertex AI location\n",
        "vertexai.init(project=PROJECT_ID, location=LOCATION)\n",
        "print(f\"Vertex AI initialized for project '{PROJECT_ID}' in location '{LOCATION}'.\")"
      ],
      "execution_count": 46,
      "outputs": [
        {
          "output_type": "stream",
          "name": "stdout",
          "text": [
            "Vertex AI initialized for project 'llm-test-428715' in location 'us-central1'.\n"
          ]
        }
      ]
    },
    {
      "cell_type": "code",
      "metadata": {
        "id": "db792f2d"
      },
      "source": [
        "from vertexai.language_models import TextGenerationModel\n",
        "# Choose a model suitable for text classification/sentiment analysis\n",
        "# 'text-bison@001' is a good general-purpose text model\n",
        "model = TextGenerationModel.from_pretrained(\"text-bison@001\")"
      ],
      "execution_count": null,
      "outputs": []
    },
    {
      "cell_type": "code",
      "metadata": {
        "id": "03e6299f"
      },
      "source": [
        "import pandas as pd\n",
        "df = pd.read_csv('engagements.csv')\n",
        "display(df.describe(include='all'))"
      ],
      "execution_count": null,
      "outputs": []
    },
    {
      "cell_type": "code",
      "metadata": {
        "id": "fe8aead4"
      },
      "source": [
        "df['vertex_sentiment'].fillna('Unknown', inplace=True)"
      ],
      "execution_count": null,
      "outputs": []
    },
    {
      "cell_type": "code",
      "metadata": {
        "id": "GitLnRHQop-F"
      },
      "source": [
        "# 1. Define a prompt template string\n",
        "sentiment_prompt_template = \"\"\"\n",
        "Analyze the sentiment of the following text and classify it as either \"Positive\" or \"Negative\".\n",
        "\n",
        "Text: {text}\n",
        "Sentiment:\n",
        "\"\"\"\n",
        "\n",
        "def get_vertex_sentiment(text):\n",
        "    if pd.isna(text):\n",
        "        return None  # Handle missing values\n",
        "    try:\n",
        "        prompt = sentiment_prompt_template.format(text=text)\n",
        "        response = model.predict(prompt)\n",
        "        sentiment = response.text.strip()\n",
        "        if sentiment not in [\"Positive\", \"Negative\"]:\n",
        "             return \"Unknown\" # Or re-try, or log an error\n",
        "        return sentiment\n",
        "    except Exception as e:\n",
        "        print(f\"Error processing text: {text[:50]}... Error: {e}\")\n",
        "        return \"Error\" # Handle potential errors during prediction\n",
        "\n",
        "df['vertex_sentiment'] = df['comment_text'].head(100).apply(get_vertex_sentiment)\n",
        "df['vertex_sentiment'].fillna('Unknown', inplace=True)\n",
        "display(df[['comment_text', 'vertex_sentiment']].head())"
      ],
      "execution_count": null,
      "outputs": []
    }
  ]
}