{
  "nbformat": 4,
  "nbformat_minor": 0,
  "metadata": {
    "colab": {
      "provenance": []
    },
    "kernelspec": {
      "name": "python3",
      "display_name": "Python 3"
    },
    "language_info": {
      "name": "python"
    }
  },
  "cells": [
    {
      "cell_type": "markdown",
      "source": [
        "Analysis of data with LLM"
      ],
      "metadata": {
        "id": "mb_6ewBMUTHD"
      }
    },
    {
      "cell_type": "code",
      "source": [
        "!pip install openai > /dev/null\n",
        "!pip install pandas scikit-learn > /dev/null"
      ],
      "metadata": {
        "id": "3OQPJfdn9idO"
      },
      "execution_count": 1,
      "outputs": []
    },
    {
      "cell_type": "code",
      "source": [
        "os.environ['OPENAI_API_KEY'] = openai_api_key"
      ],
      "metadata": {
        "id": "JkQpz2aI99VE"
      },
      "execution_count": null,
      "outputs": []
    },
    {
      "cell_type": "code",
      "source": [
        "''' https://platform.openai.com/docs/models for a list of models '''\n",
        "from openai import OpenAI\n",
        "import os\n",
        "\n",
        "client = OpenAI(api_key=openai_api_key)\n",
        "\n",
        "def set_environment():\n",
        "  variable_dict = globals().items()\n",
        "  for key, value in variable_dict:\n",
        "    if 'API' in key or 'ID' in key:\n",
        "      os.environ[key] = value\n",
        "set_environment()"
      ],
      "metadata": {
        "id": "jnK53z4v9igY"
      },
      "execution_count": null,
      "outputs": []
    },
    {
      "cell_type": "code",
      "source": [
        "import argparse\n",
        "import pandas as pd"
      ],
      "metadata": {
        "id": "GMBBORZN9ijS"
      },
      "execution_count": null,
      "outputs": []
    },
    {
      "cell_type": "code",
      "source": [
        "def create_prompt(text):\n",
        "  instructions = 'Is the review sentiment positive or negative?'\n",
        "  formatting = '\"Positive\" or \"Negative\"'\n",
        "  return f'Text:{text}\\n{instructions}\\nAnswer ({formatting}):'\n",
        "\n",
        "def invoke_llm(prompt):\n",
        "  messages = [\n",
        "        {'content':prompt, 'role':'user'} ]\n",
        "  response = client.chat.completions.create(\n",
        "        messages=messages, model='gpt-4o')\n",
        "  return response.choices[0].message.content\n",
        "\n",
        "def classify(text):\n",
        "  prompt = create_prompt(text)\n",
        "  return invoke_llm(prompt)"
      ],
      "metadata": {
        "id": "GfCklcAT-EC0"
      },
      "execution_count": null,
      "outputs": []
    },
    {
      "cell_type": "code",
      "source": [
        "from google.colab import files\n",
        "files.upload()"
      ],
      "metadata": {
        "id": "UEi2i7fJ-EMx"
      },
      "execution_count": null,
      "outputs": []
    },
    {
      "cell_type": "code",
      "source": [
        "df = pd.read_csv('engagements.csv')"
      ],
      "metadata": {
        "id": "GIADxvtf-EP8"
      },
      "execution_count": null,
      "outputs": []
    },
    {
      "cell_type": "code",
      "source": [
        "df.head()"
      ],
      "metadata": {
        "id": "DHURPAIg-ETz"
      },
      "execution_count": null,
      "outputs": []
    },
    {
      "cell_type": "code",
      "source": [
        "df['class_media_caption'] = df['media_caption'].head(100).apply(classify)"
      ],
      "metadata": {
        "id": "Z-4Yd6LT-EXv"
      },
      "execution_count": null,
      "outputs": []
    },
    {
      "cell_type": "code",
      "source": [
        "df['class_text'] = df['comment_text'].head(100).apply(classify)"
      ],
      "metadata": {
        "id": "S330HkSD_-r8"
      },
      "execution_count": null,
      "outputs": []
    },
    {
      "cell_type": "code",
      "source": [
        "statistics = df['class_media_caption'].value_counts()\n",
        "print(statistics)\n",
        "df.to_csv('class_media_caption.csv')"
      ],
      "metadata": {
        "id": "v_9iV5qJ_-xv"
      },
      "execution_count": null,
      "outputs": []
    },
    {
      "cell_type": "code",
      "source": [
        "statistics = df['class_text'].value_counts()\n",
        "print(statistics)\n",
        "df.to_csv('class_text.csv')"
      ],
      "metadata": {
        "id": "NzsBZUlEAdPv"
      },
      "execution_count": null,
      "outputs": []
    },
    {
      "cell_type": "code",
      "source": [
        "!head class_media_caption.csv"
      ],
      "metadata": {
        "id": "ITy6OEN3KlIM"
      },
      "execution_count": null,
      "outputs": []
    },
    {
      "cell_type": "code",
      "source": [
        "!head class_text.csv"
      ],
      "metadata": {
        "id": "zEcJB5GkKnxT"
      },
      "execution_count": null,
      "outputs": []
    },
    {
      "cell_type": "markdown",
      "source": [
        "Clustering"
      ],
      "metadata": {
        "id": "ZKiKNzL3FHFa"
      }
    },
    {
      "cell_type": "code",
      "metadata": {
        "id": "34d184fa"
      },
      "source": [
        "!pip install scikit-learn==1.3.2 numpy==1.26.0 > /dev/null"
      ],
      "execution_count": null,
      "outputs": []
    },
    {
      "cell_type": "code",
      "metadata": {
        "id": "3757558a"
      },
      "source": [
        "from sklearn.feature_extraction.text import TfidfVectorizer\n",
        "from sklearn.cluster import KMeans\n",
        "import numpy as np\n",
        "\n",
        "# Combine relevant text columns for clustering\n",
        "df_subset = df.head(100).copy()\n",
        "df_subset['combined_text'] = df_subset['media_caption'].fillna('') + ' ' + df_subset['comment_text'].fillna('')\n",
        "\n",
        "# Vectorize the text data\n",
        "vectorizer = TfidfVectorizer(stop_words='english')\n",
        "X = vectorizer.fit_transform(df_subset['combined_text'])\n",
        "\n",
        "# Perform KMeans clustering\n",
        "num_clusters = 5  # You can adjust the number of clusters\n",
        "kmeans = KMeans(n_clusters=num_clusters, random_state=42, n_init=10)\n",
        "df_subset['cluster'] = kmeans.fit_predict(X)\n",
        "\n",
        "# Display the first few rows with cluster labels\n",
        "display(df_subset[['combined_text', 'cluster']].head())"
      ],
      "execution_count": null,
      "outputs": []
    }
  ]
}